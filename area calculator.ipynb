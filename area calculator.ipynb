{
 "cells": [
  {
   "cell_type": "code",
   "execution_count": 21,
   "id": "ef0f821e-b91e-45ec-aa02-254fa9050915",
   "metadata": {},
   "outputs": [
    {
     "name": "stdout",
     "output_type": "stream",
     "text": [
      "--------------AREA CALCULATOR---------------\n",
      "press 1 to get the area of square \n",
      "    press 2 to get the area of rectangle\n",
      "    press 3 to get the area of circle \n",
      "    press 4 to get the area of triangle\n",
      "    press 5 to get the Total surface area of a cuboid\n"
     ]
    },
    {
     "ename": "KeyboardInterrupt",
     "evalue": "Interrupted by user",
     "output_type": "error",
     "traceback": [
      "\u001b[1;31m---------------------------------------------------------------------------\u001b[0m",
      "\u001b[1;31mKeyboardInterrupt\u001b[0m                         Traceback (most recent call last)",
      "Cell \u001b[1;32mIn[21], line 9\u001b[0m\n\u001b[0;32m      2\u001b[0m \u001b[38;5;28;01mwhile\u001b[39;00m \u001b[38;5;28;01mTrue\u001b[39;00m:\n\u001b[0;32m      3\u001b[0m     \u001b[38;5;28mprint\u001b[39m(\u001b[38;5;124m\"\"\"\u001b[39m\u001b[38;5;124mpress 1 to get the area of square \u001b[39m\n\u001b[0;32m      4\u001b[0m \u001b[38;5;124m    press 2 to get the area of rectangle\u001b[39m\n\u001b[0;32m      5\u001b[0m \u001b[38;5;124m    press 3 to get the area of circle \u001b[39m\n\u001b[0;32m      6\u001b[0m \u001b[38;5;124m    press 4 to get the area of triangle\u001b[39m\n\u001b[0;32m      7\u001b[0m \u001b[38;5;124m    press 5 to get the Total surface area of a cuboid\u001b[39m\u001b[38;5;124m\"\"\"\u001b[39m)\n\u001b[1;32m----> 9\u001b[0m     choice \u001b[38;5;241m=\u001b[39m \u001b[38;5;28mint\u001b[39m(\u001b[38;5;28;43minput\u001b[39;49m\u001b[43m(\u001b[49m\u001b[38;5;124;43m\"\u001b[39;49m\u001b[38;5;124;43mEnter a number between 1-10:\u001b[39;49m\u001b[38;5;124;43m\"\u001b[39;49m\u001b[43m)\u001b[49m)\n\u001b[0;32m     11\u001b[0m     \u001b[38;5;28;01mif\u001b[39;00m choice \u001b[38;5;241m==\u001b[39m \u001b[38;5;241m1\u001b[39m:\n\u001b[0;32m     12\u001b[0m         \u001b[38;5;28;01mwhile\u001b[39;00m \u001b[38;5;28;01mTrue\u001b[39;00m:\n",
      "File \u001b[1;32m~\\OneDrive\\Desktop\\sample_project_1\\env\\Lib\\site-packages\\ipykernel\\kernelbase.py:1262\u001b[0m, in \u001b[0;36mKernel.raw_input\u001b[1;34m(self, prompt)\u001b[0m\n\u001b[0;32m   1260\u001b[0m     msg \u001b[38;5;241m=\u001b[39m \u001b[38;5;124m\"\u001b[39m\u001b[38;5;124mraw_input was called, but this frontend does not support input requests.\u001b[39m\u001b[38;5;124m\"\u001b[39m\n\u001b[0;32m   1261\u001b[0m     \u001b[38;5;28;01mraise\u001b[39;00m StdinNotImplementedError(msg)\n\u001b[1;32m-> 1262\u001b[0m \u001b[38;5;28;01mreturn\u001b[39;00m \u001b[38;5;28;43mself\u001b[39;49m\u001b[38;5;241;43m.\u001b[39;49m\u001b[43m_input_request\u001b[49m\u001b[43m(\u001b[49m\n\u001b[0;32m   1263\u001b[0m \u001b[43m    \u001b[49m\u001b[38;5;28;43mstr\u001b[39;49m\u001b[43m(\u001b[49m\u001b[43mprompt\u001b[49m\u001b[43m)\u001b[49m\u001b[43m,\u001b[49m\n\u001b[0;32m   1264\u001b[0m \u001b[43m    \u001b[49m\u001b[38;5;28;43mself\u001b[39;49m\u001b[38;5;241;43m.\u001b[39;49m\u001b[43m_parent_ident\u001b[49m\u001b[43m[\u001b[49m\u001b[38;5;124;43m\"\u001b[39;49m\u001b[38;5;124;43mshell\u001b[39;49m\u001b[38;5;124;43m\"\u001b[39;49m\u001b[43m]\u001b[49m\u001b[43m,\u001b[49m\n\u001b[0;32m   1265\u001b[0m \u001b[43m    \u001b[49m\u001b[38;5;28;43mself\u001b[39;49m\u001b[38;5;241;43m.\u001b[39;49m\u001b[43mget_parent\u001b[49m\u001b[43m(\u001b[49m\u001b[38;5;124;43m\"\u001b[39;49m\u001b[38;5;124;43mshell\u001b[39;49m\u001b[38;5;124;43m\"\u001b[39;49m\u001b[43m)\u001b[49m\u001b[43m,\u001b[49m\n\u001b[0;32m   1266\u001b[0m \u001b[43m    \u001b[49m\u001b[43mpassword\u001b[49m\u001b[38;5;241;43m=\u001b[39;49m\u001b[38;5;28;43;01mFalse\u001b[39;49;00m\u001b[43m,\u001b[49m\n\u001b[0;32m   1267\u001b[0m \u001b[43m\u001b[49m\u001b[43m)\u001b[49m\n",
      "File \u001b[1;32m~\\OneDrive\\Desktop\\sample_project_1\\env\\Lib\\site-packages\\ipykernel\\kernelbase.py:1305\u001b[0m, in \u001b[0;36mKernel._input_request\u001b[1;34m(self, prompt, ident, parent, password)\u001b[0m\n\u001b[0;32m   1302\u001b[0m \u001b[38;5;28;01mexcept\u001b[39;00m \u001b[38;5;167;01mKeyboardInterrupt\u001b[39;00m:\n\u001b[0;32m   1303\u001b[0m     \u001b[38;5;66;03m# re-raise KeyboardInterrupt, to truncate traceback\u001b[39;00m\n\u001b[0;32m   1304\u001b[0m     msg \u001b[38;5;241m=\u001b[39m \u001b[38;5;124m\"\u001b[39m\u001b[38;5;124mInterrupted by user\u001b[39m\u001b[38;5;124m\"\u001b[39m\n\u001b[1;32m-> 1305\u001b[0m     \u001b[38;5;28;01mraise\u001b[39;00m \u001b[38;5;167;01mKeyboardInterrupt\u001b[39;00m(msg) \u001b[38;5;28;01mfrom\u001b[39;00m \u001b[38;5;28;01mNone\u001b[39;00m\n\u001b[0;32m   1306\u001b[0m \u001b[38;5;28;01mexcept\u001b[39;00m \u001b[38;5;167;01mException\u001b[39;00m:\n\u001b[0;32m   1307\u001b[0m     \u001b[38;5;28mself\u001b[39m\u001b[38;5;241m.\u001b[39mlog\u001b[38;5;241m.\u001b[39mwarning(\u001b[38;5;124m\"\u001b[39m\u001b[38;5;124mInvalid Message:\u001b[39m\u001b[38;5;124m\"\u001b[39m, exc_info\u001b[38;5;241m=\u001b[39m\u001b[38;5;28;01mTrue\u001b[39;00m)\n",
      "\u001b[1;31mKeyboardInterrupt\u001b[0m: Interrupted by user"
     ]
    }
   ],
   "source": [
    "print(\"--------------AREA CALCULATOR---------------\")\n",
    "while True:\n",
    "    print(\"\"\"press 1 to get the area of square \n",
    "    press 2 to get the area of rectangle\n",
    "    press 3 to get the area of circle \n",
    "    press 4 to get the area of triangle\n",
    "    press 5 to get the Total surface area of a cuboid\"\"\")\n",
    "\n",
    "    choice = int(input(\"Enter a number between 1-10:\"))\n",
    "\n",
    "    if choice == 1:\n",
    "        while True:\n",
    "            side = float(input(\"Enter a side:\"))\n",
    "            print(\"area of square = \", side**2)\n",
    "            repeat = input(\"Do you want to try again with square?(Y?N):\")\n",
    "            if repeat == \"N\" or repeat == \"n\":\n",
    "                break\n",
    "    \n",
    "    elif choice == 2:\n",
    "        while True:\n",
    "            length = float(input(\"Enter Length:\"))\n",
    "            breadth = float(input(\"Enter Breadth:\"))\n",
    "            print(\"Area of rectangle:\", length*breadth)\n",
    "            repeat = input(\"Do you want to try again with  rectangle?(Y?N):\")\n",
    "            if repeat == \"N\" or repeat == \"n\":\n",
    "                break\n",
    "    \n",
    "    elif choice == 3:\n",
    "        while True:\n",
    "            radius = float(input(\"Enter Radius:\"))\n",
    "            print(\"Area of circle:\", (22/7)*(radius**2))\n",
    "            repeat = input(\"Do you want to try again with circle?(Y?N):\")\n",
    "            if repeat == \"N\" or repeat == \"n\":\n",
    "                break\n",
    "    elif choice == 4:\n",
    "        length1 = L1 = float(input(\"Enter length of 1st side:\"))\n",
    "        length2 = L2 = float(input(\"Enter length of 2nd side:\"))\n",
    "        length3 = L3 = float(input(\"Enter length of 3rd side:\"))\n",
    "        semiperimeter = S = (length1+length2+length3)/2\n",
    "        print(\"Area of Triangle :\",((S*(S-L1)*(S-L2)*(S-L3))**(1/2)))\n",
    "        repeat = input(\"Do you want to try again with triangle?(Y?N):\")\n",
    "        if repeat == \"N\" or repeat == \"n\":\n",
    "            break\n",
    "\n",
    "    repeat1 = input(\"Do you want to repeat the menu again?(Y/N)\")\n",
    "    if repeat1 == \"N\" or repeat == \"n\":\n",
    "        break"
   ]
  },
  {
   "cell_type": "code",
   "execution_count": null,
   "id": "2524026c-1531-4f66-8d8c-0db1ac38473a",
   "metadata": {},
   "outputs": [],
   "source": []
  },
  {
   "cell_type": "code",
   "execution_count": null,
   "id": "27decd33-60a4-44c8-a504-e6fbc04f09ab",
   "metadata": {},
   "outputs": [],
   "source": []
  },
  {
   "cell_type": "code",
   "execution_count": null,
   "id": "9be4b856-9234-4f76-9619-87edf4ed32bf",
   "metadata": {},
   "outputs": [],
   "source": []
  }
 ],
 "metadata": {
  "kernelspec": {
   "display_name": "Python 3 (ipykernel)",
   "language": "python",
   "name": "python3"
  },
  "language_info": {
   "codemirror_mode": {
    "name": "ipython",
    "version": 3
   },
   "file_extension": ".py",
   "mimetype": "text/x-python",
   "name": "python",
   "nbconvert_exporter": "python",
   "pygments_lexer": "ipython3",
   "version": "3.12.7"
  }
 },
 "nbformat": 4,
 "nbformat_minor": 5
}
